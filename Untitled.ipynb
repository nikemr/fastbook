{
 "cells": [
  {
   "cell_type": "code",
   "execution_count": 1,
   "id": "e0532f17-df12-4901-82b8-20f649dc0f4a",
   "metadata": {},
   "outputs": [],
   "source": [
    "import torch\n",
    "from torch import tensor"
   ]
  },
  {
   "cell_type": "code",
   "execution_count": 71,
   "id": "455f2d74-f5d3-4b93-aba4-df9ee0c26e4a",
   "metadata": {},
   "outputs": [],
   "source": [
    "def matmul(a,b):\n",
    "    ar,ac = a.shape\n",
    "    br,bc = b.shape\n",
    "    assert ac==br\n",
    "    c = torch.zeros(ar, bc)\n",
    "    for i in range(ar):\n",
    "#       c[i,j] = (a[i,:]          * b[:,j]).sum() # previous\n",
    "        c[i]   = (a[i  ].unsqueeze(-1) * b).sum(dim=0)\n",
    "    return c"
   ]
  },
  {
   "cell_type": "code",
   "execution_count": 72,
   "id": "e95c11b9-d399-44e0-804d-a4753cdbc700",
   "metadata": {},
   "outputs": [],
   "source": [
    "a = tensor([[10., 6, -4]])\n",
    "b = tensor([[2.],[8.], [7]])"
   ]
  },
  {
   "cell_type": "code",
   "execution_count": 46,
   "id": "07945c33-7306-4c99-9741-90a8edea9195",
   "metadata": {},
   "outputs": [
    {
     "data": {
      "text/plain": [
       "(torch.Size([1, 3]), torch.Size([3, 1]))"
      ]
     },
     "execution_count": 46,
     "metadata": {},
     "output_type": "execute_result"
    }
   ],
   "source": [
    "a.shape, b.shape"
   ]
  },
  {
   "cell_type": "code",
   "execution_count": 47,
   "id": "7813bfe6-9731-4d8f-8c8f-cf675aed575d",
   "metadata": {},
   "outputs": [
    {
     "data": {
      "text/plain": [
       "tensor([[40.]])"
      ]
     },
     "execution_count": 47,
     "metadata": {},
     "output_type": "execute_result"
    }
   ],
   "source": [
    "matmul(a,b)"
   ]
  },
  {
   "cell_type": "code",
   "execution_count": 48,
   "id": "123c723d-316b-463c-b78a-85098927f3f3",
   "metadata": {},
   "outputs": [
    {
     "data": {
      "text/plain": [
       "tensor([[2, 2, 1],\n",
       "        [1, 2, 2]])"
      ]
     },
     "execution_count": 48,
     "metadata": {},
     "output_type": "execute_result"
    }
   ],
   "source": [
    "m1 = torch.randint(3, (2, 3))\n",
    "m1"
   ]
  },
  {
   "cell_type": "code",
   "execution_count": 49,
   "id": "bfdb956b-7949-421e-8a5f-0f404c2e3cc8",
   "metadata": {},
   "outputs": [
    {
     "data": {
      "text/plain": [
       "tensor([[7, 5],\n",
       "        [2, 7],\n",
       "        [7, 7]])"
      ]
     },
     "execution_count": 49,
     "metadata": {},
     "output_type": "execute_result"
    }
   ],
   "source": [
    "m2 = torch.randint(10, (3, 2))\n",
    "m2"
   ]
  },
  {
   "cell_type": "code",
   "execution_count": 57,
   "id": "b1fee0fb-3e77-4ebd-86bc-5d980a4c5000",
   "metadata": {},
   "outputs": [
    {
     "data": {
      "text/plain": [
       "tensor([[2],\n",
       "        [2],\n",
       "        [1]])"
      ]
     },
     "execution_count": 57,
     "metadata": {},
     "output_type": "execute_result"
    }
   ],
   "source": [
    "m1[0].unsqueeze(-1)"
   ]
  },
  {
   "cell_type": "code",
   "execution_count": 69,
   "id": "50f3df11-4eb5-4a59-9c75-8d99c86e099d",
   "metadata": {},
   "outputs": [
    {
     "data": {
      "text/plain": [
       "torch.Size([2, 3])"
      ]
     },
     "execution_count": 69,
     "metadata": {},
     "output_type": "execute_result"
    }
   ],
   "source": [
    "m1.shape"
   ]
  },
  {
   "cell_type": "code",
   "execution_count": 82,
   "id": "f875c6dd-f740-4501-984d-f7c00fcbd5f5",
   "metadata": {},
   "outputs": [
    {
     "data": {
      "text/plain": [
       "tensor([[1],\n",
       "        [2],\n",
       "        [2]])"
      ]
     },
     "execution_count": 82,
     "metadata": {},
     "output_type": "execute_result"
    }
   ],
   "source": [
    "m1[1].unsqueeze(-1)"
   ]
  },
  {
   "cell_type": "code",
   "execution_count": 59,
   "id": "8a550ee5-104d-48d8-98be-e66c06b5220c",
   "metadata": {},
   "outputs": [
    {
     "data": {
      "text/plain": [
       "torch.Size([3, 2])"
      ]
     },
     "execution_count": 59,
     "metadata": {},
     "output_type": "execute_result"
    }
   ],
   "source": [
    "m2.shape"
   ]
  },
  {
   "cell_type": "code",
   "execution_count": 83,
   "id": "7a917989-aea9-4efc-8973-3b2f7ad45abb",
   "metadata": {},
   "outputs": [
    {
     "data": {
      "text/plain": [
       "tensor([24, 18, 14])"
      ]
     },
     "execution_count": 83,
     "metadata": {},
     "output_type": "execute_result"
    }
   ],
   "source": [
    "(m1[0].unsqueeze(-1)*m2).sum(dim=0) #(2*7)+(2*2)+(1*7), (2*5)+(2*7)+(1*7) = [25, 31] "
   ]
  },
  {
   "cell_type": "code",
   "execution_count": 81,
   "id": "88319b69-5e4e-4014-968e-3ae2a657c706",
   "metadata": {},
   "outputs": [
    {
     "data": {
      "text/plain": [
       "tensor([25, 33])"
      ]
     },
     "execution_count": 81,
     "metadata": {},
     "output_type": "execute_result"
    }
   ],
   "source": [
    "(m1[1].unsqueeze(-1)*m2).sum(dim=0) #(1*7)+(2*2)+(2*7),(1*5)+(2*7)+(2*7) = [25, 33]"
   ]
  },
  {
   "cell_type": "code",
   "execution_count": 66,
   "id": "99453d43-d792-47c3-8665-3a0475241c7c",
   "metadata": {},
   "outputs": [
    {
     "data": {
      "text/plain": [
       "tensor([[25., 31.],\n",
       "        [25., 33.]])"
      ]
     },
     "execution_count": 66,
     "metadata": {},
     "output_type": "execute_result"
    }
   ],
   "source": [
    "matmul(m1,m2)"
   ]
  },
  {
   "cell_type": "code",
   "execution_count": 70,
   "id": "eab00b77-1b8a-4aee-b6a9-5d0ffcd4993d",
   "metadata": {},
   "outputs": [
    {
     "data": {
      "text/plain": [
       "[0, 1]"
      ]
     },
     "execution_count": 70,
     "metadata": {},
     "output_type": "execute_result"
    }
   ],
   "source": [
    "list(range(2))"
   ]
  },
  {
   "cell_type": "code",
   "execution_count": 35,
   "id": "6c92726c-2041-4e06-94f1-a526d0160b0c",
   "metadata": {},
   "outputs": [
    {
     "data": {
      "text/plain": [
       "(torch.Size([3, 3]), torch.Size([3]))"
      ]
     },
     "execution_count": 35,
     "metadata": {},
     "output_type": "execute_result"
    }
   ],
   "source": [
    "c = tensor([10.,20,30])\n",
    "m = tensor([[1., 2, 3], [4,5,6], [7,8,9]])\n",
    "m.shape,c.shape"
   ]
  },
  {
   "cell_type": "code",
   "execution_count": 39,
   "id": "e4642735-0284-49d5-9669-767b43142aa8",
   "metadata": {},
   "outputs": [],
   "source": [
    "g=c.expand_as(m)"
   ]
  },
  {
   "cell_type": "code",
   "execution_count": 38,
   "id": "a10f75a2-86b8-4b03-a9c6-94bd948eec2c",
   "metadata": {},
   "outputs": [
    {
     "data": {
      "text/plain": [
       " 10.0\n",
       " 20.0\n",
       " 30.0\n",
       "[torch.FloatStorage of size 3]"
      ]
     },
     "execution_count": 38,
     "metadata": {},
     "output_type": "execute_result"
    }
   ],
   "source": [
    "t = c.expand_as(m)\n",
    "t.storage()"
   ]
  },
  {
   "cell_type": "code",
   "execution_count": 41,
   "id": "9d4d8ed6-678f-44ff-bbf7-e2d489727ba9",
   "metadata": {},
   "outputs": [
    {
     "data": {
      "text/plain": [
       " 10.0\n",
       " 20.0\n",
       " 30.0\n",
       "[torch.FloatStorage of size 3]"
      ]
     },
     "execution_count": 41,
     "metadata": {},
     "output_type": "execute_result"
    }
   ],
   "source": [
    "g.storage()"
   ]
  },
  {
   "cell_type": "code",
   "execution_count": 43,
   "id": "e67641b7-edda-4d92-82dd-2ed99aaf36e9",
   "metadata": {},
   "outputs": [
    {
     "data": {
      "text/plain": [
       " 1.0\n",
       " 2.0\n",
       " 3.0\n",
       " 4.0\n",
       " 5.0\n",
       " 6.0\n",
       " 7.0\n",
       " 8.0\n",
       " 9.0\n",
       "[torch.FloatStorage of size 9]"
      ]
     },
     "execution_count": 43,
     "metadata": {},
     "output_type": "execute_result"
    }
   ],
   "source": [
    "m.storage()"
   ]
  },
  {
   "cell_type": "code",
   "execution_count": 44,
   "id": "24037aeb-7eaa-4e16-b828-13fb2cd24cdb",
   "metadata": {},
   "outputs": [
    {
     "data": {
      "text/plain": [
       " 1.0\n",
       " 1.0\n",
       " 3.0\n",
       " 4.0\n",
       " 5.0\n",
       " 5.0\n",
       " 7.0\n",
       " 4.0\n",
       " 9.0\n",
       "[torch.FloatStorage of size 9]"
      ]
     },
     "execution_count": 44,
     "metadata": {},
     "output_type": "execute_result"
    }
   ],
   "source": [
    "f = tensor([[1., 1, 3], [4,5,5], [7,4,9]])\n",
    "f.storage()"
   ]
  },
  {
   "cell_type": "code",
   "execution_count": null,
   "id": "dbf203ed-a19a-4b2e-b162-2a1b517f3dc8",
   "metadata": {},
   "outputs": [],
   "source": []
  }
 ],
 "metadata": {
  "kernelspec": {
   "display_name": "Python 3 (ipykernel)",
   "language": "python",
   "name": "python3"
  },
  "language_info": {
   "codemirror_mode": {
    "name": "ipython",
    "version": 3
   },
   "file_extension": ".py",
   "mimetype": "text/x-python",
   "name": "python",
   "nbconvert_exporter": "python",
   "pygments_lexer": "ipython3",
   "version": "3.9.13"
  }
 },
 "nbformat": 4,
 "nbformat_minor": 5
}
